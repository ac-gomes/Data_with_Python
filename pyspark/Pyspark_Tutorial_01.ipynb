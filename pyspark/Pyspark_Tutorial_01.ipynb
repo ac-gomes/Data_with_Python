{
 "cells": [
  {
   "cell_type": "markdown",
   "id": "69c795ec",
   "metadata": {},
   "source": [
    "### We will Cover\n",
    " - PySpark Dataframe\n",
    " - Reading The Dataset\n",
    " - Checking the Datatypes of the Column(Schema)\n",
    " - Selecting Columns And Indexing\n",
    " - Checking Describe opion similar to Pandas\n",
    " - Adding Columns\n",
    " - Dropping Columns\n",
    " - Rename Columns"
   ]
  },
  {
   "cell_type": "code",
   "execution_count": 2,
   "id": "346eadae",
   "metadata": {},
   "outputs": [],
   "source": [
    "from pyspark.sql import SparkSession"
   ]
  },
  {
   "cell_type": "code",
   "execution_count": 4,
   "id": "c291bc95",
   "metadata": {},
   "outputs": [],
   "source": [
    "spark=SparkSession.builder.appName('Dataframe_01').getOrCreate()"
   ]
  },
  {
   "cell_type": "code",
   "execution_count": 5,
   "id": "f2d32a92",
   "metadata": {},
   "outputs": [
    {
     "data": {
      "text/html": [
       "\n",
       "            <div>\n",
       "                <p><b>SparkSession - in-memory</b></p>\n",
       "                \n",
       "        <div>\n",
       "            <p><b>SparkContext</b></p>\n",
       "\n",
       "            <p><a href=\"http://192.168.0.25:4040\">Spark UI</a></p>\n",
       "\n",
       "            <dl>\n",
       "              <dt>Version</dt>\n",
       "                <dd><code>v3.2.0</code></dd>\n",
       "              <dt>Master</dt>\n",
       "                <dd><code>local[*]</code></dd>\n",
       "              <dt>AppName</dt>\n",
       "                <dd><code>Dataframe_01</code></dd>\n",
       "            </dl>\n",
       "        </div>\n",
       "        \n",
       "            </div>\n",
       "        "
      ],
      "text/plain": [
       "<pyspark.sql.session.SparkSession at 0x7fe3b11caf40>"
      ]
     },
     "execution_count": 5,
     "metadata": {},
     "output_type": "execute_result"
    }
   ],
   "source": [
    "spark"
   ]
  },
  {
   "cell_type": "code",
   "execution_count": 6,
   "id": "fdf5c310",
   "metadata": {},
   "outputs": [],
   "source": [
    "#Function to get all files in my directory\n",
    "\n",
    "from os import listdir\n",
    "from os.path import isfile, join\n",
    "\n",
    "def get_file_from_directory(folder_dir='', file_name=''):\n",
    "    filtered_list = []\n",
    "    file_list = []\n",
    "\n",
    "    try:\n",
    "        if folder_dir != '':\n",
    "            file_list = [f for f in listdir(folder_dir) if isfile(join(folder_dir, f))]\n",
    "\n",
    "        if file_name != '':\n",
    "            for arquivo in file_list:\n",
    "                if file_name in arquivo:\n",
    "                    filtered_list.append(file_name)\n",
    "        else:\n",
    "            return 'Insera o nome do arquivo a ser localizado!'\n",
    "        \n",
    "    except FileNotFoundError as error:\n",
    "        print(f\"Insira um caminho valido para a pasta de arquivos! \\n Error: {error.filename}\")\n",
    "        \n",
    "    except IndexError as index_error:\n",
    "        print(f\"Arquivo não localozado {index_error}, certifique-se de inserir o nome do arquivo.\")\n",
    "        \n",
    "    try:\n",
    "        return (f\"{folder_dir}/{filtered_list[0]}\", 'arquivo não localizado')[len(filtered_list) == 0]\n",
    "    \n",
    "    except IndexError:\n",
    "        return 'Arquivo não localizado, talvez o nome do arquivo esteja errado.'    "
   ]
  },
  {
   "cell_type": "code",
   "execution_count": 7,
   "id": "428dd300",
   "metadata": {},
   "outputs": [],
   "source": [
    "# set var values\n",
    "folder='/home/toni/dev_spark/notebooks/files'\n",
    "csv_file = 'cidades.csv'\n"
   ]
  },
  {
   "cell_type": "code",
   "execution_count": 8,
   "id": "43257549",
   "metadata": {},
   "outputs": [
    {
     "name": "stdout",
     "output_type": "stream",
     "text": [
      "/home/toni/dev_spark/notebooks/files/cidades.csv\n"
     ]
    }
   ],
   "source": [
    "print(get_file_from_directory(folder, csv_file))"
   ]
  },
  {
   "cell_type": "code",
   "execution_count": 11,
   "id": "96690650",
   "metadata": {},
   "outputs": [
    {
     "name": "stdout",
     "output_type": "stream",
     "text": [
      "+----------+--------------+------------+\n",
      "|cod_cidade|   nome_cidade|sigla_estado|\n",
      "+----------+--------------+------------+\n",
      "|         1|        Recife|          PE|\n",
      "|         2|     São Paulo|          SP|\n",
      "|         3|  Porto Alegre|          RS|\n",
      "|         4|   João Pessoa|          PB|\n",
      "|         5|Rio de Janeiro|          RJ|\n",
      "+----------+--------------+------------+\n",
      "\n"
     ]
    }
   ],
   "source": [
    "spark.read.csv(get_file_from_directory(folder, csv_file), sep=';', header=True).show()"
   ]
  },
  {
   "cell_type": "code",
   "execution_count": 12,
   "id": "9f63433d",
   "metadata": {},
   "outputs": [],
   "source": [
    "# set columns according to the values:>> inferSchema \n",
    "df_pyspark = spark.read.csv(get_file_from_directory(folder, csv_file), sep=';', header=True, inferSchema=True)"
   ]
  },
  {
   "cell_type": "code",
   "execution_count": 13,
   "id": "16ed61b9",
   "metadata": {},
   "outputs": [
    {
     "name": "stdout",
     "output_type": "stream",
     "text": [
      "root\n",
      " |-- cod_cidade: integer (nullable = true)\n",
      " |-- nome_cidade: string (nullable = true)\n",
      " |-- sigla_estado: string (nullable = true)\n",
      "\n"
     ]
    }
   ],
   "source": [
    "# check data type of columns\n",
    "df_pyspark.printSchema()\n",
    "\n",
    "## df_pyspark.dtypes\n",
    "\n",
    "## df_pyspark.describe()\n",
    "\n",
    "## df_pyspark.describe().show()"
   ]
  },
  {
   "cell_type": "code",
   "execution_count": 14,
   "id": "ec8f9181",
   "metadata": {},
   "outputs": [
    {
     "data": {
      "text/plain": [
       "pyspark.sql.dataframe.DataFrame"
      ]
     },
     "execution_count": 14,
     "metadata": {},
     "output_type": "execute_result"
    }
   ],
   "source": [
    "type(df_pyspark)"
   ]
  },
  {
   "cell_type": "code",
   "execution_count": 15,
   "id": "e0f76099",
   "metadata": {},
   "outputs": [
    {
     "data": {
      "text/plain": [
       "['cod_cidade', 'nome_cidade', 'sigla_estado']"
      ]
     },
     "execution_count": 15,
     "metadata": {},
     "output_type": "execute_result"
    }
   ],
   "source": [
    "# show columns\n",
    "df_pyspark.columns"
   ]
  },
  {
   "cell_type": "code",
   "execution_count": 16,
   "id": "d617cf8d",
   "metadata": {},
   "outputs": [
    {
     "data": {
      "text/plain": [
       "[Row(cod_cidade=1, nome_cidade='Recife', sigla_estado='PE'),\n",
       " Row(cod_cidade=2, nome_cidade='São Paulo', sigla_estado='SP')]"
      ]
     },
     "execution_count": 16,
     "metadata": {},
     "output_type": "execute_result"
    }
   ],
   "source": [
    "# show some rows\n",
    "df_pyspark.head(2)"
   ]
  },
  {
   "cell_type": "code",
   "execution_count": 17,
   "id": "d7a3be74",
   "metadata": {},
   "outputs": [
    {
     "data": {
      "text/plain": [
       "DataFrame[nome_cidade: string]"
      ]
     },
     "execution_count": 17,
     "metadata": {},
     "output_type": "execute_result"
    }
   ],
   "source": [
    "# Select columns\n",
    "df_pyspark.select('nome_cidade')\n",
    "\n",
    "## df_pyspark.select(['nome_cidade','sigla_estado'])\n",
    "## df_pyspark['nome_cidade']"
   ]
  },
  {
   "cell_type": "code",
   "execution_count": 18,
   "id": "a4c85146",
   "metadata": {},
   "outputs": [
    {
     "name": "stdout",
     "output_type": "stream",
     "text": [
      "+--------------+\n",
      "|   nome_cidade|\n",
      "+--------------+\n",
      "|        Recife|\n",
      "|     São Paulo|\n",
      "|  Porto Alegre|\n",
      "|   João Pessoa|\n",
      "|Rio de Janeiro|\n",
      "+--------------+\n",
      "\n"
     ]
    }
   ],
   "source": [
    "# Select columns\n",
    "df_pyspark.select('nome_cidade').show()\n",
    "\n",
    "## df_pyspark.select(['nome_cidade','sigla_estado']).show()"
   ]
  },
  {
   "cell_type": "code",
   "execution_count": 20,
   "id": "75accf2b",
   "metadata": {},
   "outputs": [
    {
     "name": "stdout",
     "output_type": "stream",
     "text": [
      "+-------+------------------+-----------+------------+\n",
      "|summary|        cod_cidade|nome_cidade|sigla_estado|\n",
      "+-------+------------------+-----------+------------+\n",
      "|  count|                 5|          5|           5|\n",
      "|   mean|               3.0|       null|        null|\n",
      "| stddev|1.5811388300841898|       null|        null|\n",
      "|    min|                 1|João Pessoa|          PB|\n",
      "|    max|                 5|  São Paulo|          SP|\n",
      "+-------+------------------+-----------+------------+\n",
      "\n"
     ]
    }
   ],
   "source": [
    "df_pyspark.describe().show()"
   ]
  },
  {
   "cell_type": "code",
   "execution_count": 21,
   "id": "499b73a2",
   "metadata": {},
   "outputs": [],
   "source": [
    "# add columns in a df\n",
    "from pyspark.sql import functions as F\n",
    "\n",
    "df_pyspark=df_pyspark.withColumn('data_de_hoje',F.current_date())"
   ]
  },
  {
   "cell_type": "code",
   "execution_count": 22,
   "id": "9f9684c0",
   "metadata": {},
   "outputs": [
    {
     "name": "stdout",
     "output_type": "stream",
     "text": [
      "+------------+\n",
      "|data_de_hoje|\n",
      "+------------+\n",
      "|  2021-12-30|\n",
      "|  2021-12-30|\n",
      "|  2021-12-30|\n",
      "|  2021-12-30|\n",
      "|  2021-12-30|\n",
      "+------------+\n",
      "\n"
     ]
    }
   ],
   "source": [
    "df_pyspark.select('data_de_hoje').show()"
   ]
  },
  {
   "cell_type": "code",
   "execution_count": 23,
   "id": "db649098",
   "metadata": {},
   "outputs": [],
   "source": [
    "## add columns\n",
    "df_pyspark=df_pyspark.withColumn('coluna_exemplo',df_pyspark['cod_cidade']+1)"
   ]
  },
  {
   "cell_type": "code",
   "execution_count": 24,
   "id": "fc398ae5",
   "metadata": {},
   "outputs": [
    {
     "data": {
      "text/plain": [
       "DataFrame[cod_cidade: int, nome_cidade: string, sigla_estado: string, data_de_hoje: date, coluna_exemplo: int]"
      ]
     },
     "execution_count": 24,
     "metadata": {},
     "output_type": "execute_result"
    }
   ],
   "source": [
    "df_pyspark"
   ]
  },
  {
   "cell_type": "code",
   "execution_count": 25,
   "id": "94b7b0f1",
   "metadata": {},
   "outputs": [],
   "source": [
    "## Drop the columns\n",
    "df_pyspark=df_pyspark.drop('coluna_exemplo')"
   ]
  },
  {
   "cell_type": "code",
   "execution_count": 26,
   "id": "91f071ec",
   "metadata": {},
   "outputs": [
    {
     "name": "stdout",
     "output_type": "stream",
     "text": [
      "+----------+--------------+------------+------------+\n",
      "|cod_cidade|   nome_cidade|sigla_estado|data_de_hoje|\n",
      "+----------+--------------+------------+------------+\n",
      "|         1|        Recife|          PE|  2021-12-30|\n",
      "|         2|     São Paulo|          SP|  2021-12-30|\n",
      "|         3|  Porto Alegre|          RS|  2021-12-30|\n",
      "|         4|   João Pessoa|          PB|  2021-12-30|\n",
      "|         5|Rio de Janeiro|          RJ|  2021-12-30|\n",
      "+----------+--------------+------------+------------+\n",
      "\n"
     ]
    }
   ],
   "source": [
    "df_pyspark.show()"
   ]
  },
  {
   "cell_type": "code",
   "execution_count": 28,
   "id": "7221c190",
   "metadata": {},
   "outputs": [
    {
     "name": "stdout",
     "output_type": "stream",
     "text": [
      "+----------+--------------+------------+----------+\n",
      "|cod_cidade|   nome_cidade|sigla_estado|     today|\n",
      "+----------+--------------+------------+----------+\n",
      "|         1|        Recife|          PE|2021-12-30|\n",
      "|         2|     São Paulo|          SP|2021-12-30|\n",
      "|         3|  Porto Alegre|          RS|2021-12-30|\n",
      "|         4|   João Pessoa|          PB|2021-12-30|\n",
      "|         5|Rio de Janeiro|          RJ|2021-12-30|\n",
      "+----------+--------------+------------+----------+\n",
      "\n"
     ]
    }
   ],
   "source": [
    "## Rename columns\n",
    "df_pyspark.withColumnRenamed('data_de_hoje','today').show()"
   ]
  },
  {
   "cell_type": "code",
   "execution_count": null,
   "id": "06786556",
   "metadata": {},
   "outputs": [],
   "source": []
  }
 ],
 "metadata": {
  "kernelspec": {
   "display_name": "Python 3 (ipykernel)",
   "language": "python",
   "name": "python3"
  },
  "language_info": {
   "codemirror_mode": {
    "name": "ipython",
    "version": 3
   },
   "file_extension": ".py",
   "mimetype": "text/x-python",
   "name": "python",
   "nbconvert_exporter": "python",
   "pygments_lexer": "ipython3",
   "version": "3.8.10"
  }
 },
 "nbformat": 4,
 "nbformat_minor": 5
}
