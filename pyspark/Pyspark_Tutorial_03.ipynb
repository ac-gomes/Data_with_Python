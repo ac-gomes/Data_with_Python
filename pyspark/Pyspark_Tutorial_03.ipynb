{
 "cells": [
  {
   "cell_type": "markdown",
   "id": "3acee872",
   "metadata": {},
   "source": [
    "## Filter Operations\n",
    "\n",
    "- &, |, ==\n",
    "- ~"
   ]
  },
  {
   "cell_type": "code",
   "execution_count": 2,
   "id": "840c2e0e",
   "metadata": {},
   "outputs": [],
   "source": [
    "from pyspark.sql import SparkSession\n",
    "spark=SparkSession.builder.appName('Tutorial_03').getOrCreate()\n"
   ]
  },
  {
   "cell_type": "code",
   "execution_count": 5,
   "id": "e1a7b993",
   "metadata": {},
   "outputs": [
    {
     "data": {
      "text/html": [
       "\n",
       "            <div>\n",
       "                <p><b>SparkSession - in-memory</b></p>\n",
       "                \n",
       "        <div>\n",
       "            <p><b>SparkContext</b></p>\n",
       "\n",
       "            <p><a href=\"http://192.168.0.25:4041\">Spark UI</a></p>\n",
       "\n",
       "            <dl>\n",
       "              <dt>Version</dt>\n",
       "                <dd><code>v3.2.0</code></dd>\n",
       "              <dt>Master</dt>\n",
       "                <dd><code>local[*]</code></dd>\n",
       "              <dt>AppName</dt>\n",
       "                <dd><code>Tutorial_03</code></dd>\n",
       "            </dl>\n",
       "        </div>\n",
       "        \n",
       "            </div>\n",
       "        "
      ],
      "text/plain": [
       "<pyspark.sql.session.SparkSession at 0x7fec51b9f580>"
      ]
     },
     "execution_count": 5,
     "metadata": {},
     "output_type": "execute_result"
    }
   ],
   "source": [
    "spark"
   ]
  },
  {
   "cell_type": "code",
   "execution_count": 3,
   "id": "9cba35a4",
   "metadata": {},
   "outputs": [],
   "source": [
    "#Function to get all files in my directory\n",
    "\n",
    "from os import listdir\n",
    "from os.path import isfile, join\n",
    "\n",
    "def get_file_from_directory(folder_dir='', file_name=''):\n",
    "    filtered_list = []\n",
    "    file_list = []\n",
    "\n",
    "    try:\n",
    "        if folder_dir != '':\n",
    "            file_list = [f for f in listdir(folder_dir) if isfile(join(folder_dir, f))]\n",
    "\n",
    "        if file_name != '':\n",
    "            for arquivo in file_list:\n",
    "                if file_name in arquivo:\n",
    "                    filtered_list.append(file_name)\n",
    "        else:\n",
    "            return 'Insera o nome do arquivo a ser localizado!'\n",
    "        \n",
    "    except FileNotFoundError as error:\n",
    "        print(f\"Insira um caminho valido para a pasta de arquivos! \\n Error: {error.filename}\")\n",
    "        \n",
    "    except IndexError as index_error:\n",
    "        print(f\"Arquivo não localozado {index_error}, certifique-se de inserir o nome do arquivo.\")\n",
    "        \n",
    "    try:\n",
    "        return (f\"{folder_dir}/{filtered_list[0]}\", 'arquivo não localizado')[len(filtered_list) == 0]\n",
    "    \n",
    "    except IndexError:\n",
    "        return 'Arquivo não localizado, talvez o nome do arquivo esteja errado.'"
   ]
  },
  {
   "cell_type": "code",
   "execution_count": 4,
   "id": "f706b920",
   "metadata": {},
   "outputs": [],
   "source": [
    "# set var values\n",
    "folder='/home/toni/dev_spark/notebooks/files'\n",
    "csv_file = 'movies.csv'"
   ]
  },
  {
   "cell_type": "code",
   "execution_count": 10,
   "id": "af985266",
   "metadata": {},
   "outputs": [
    {
     "name": "stdout",
     "output_type": "stream",
     "text": [
      "+------+--------------------+--------------------+----+------+-------------+\n",
      "| movie|               title|              genres|year|Rating|Rotton Tomato|\n",
      "+------+--------------------+--------------------+----+------+-------------+\n",
      "|108583| Fawlty Towers (1975|              Comedy|null|     1|           54|\n",
      "| 32898|Trip to the Moon,...|Action|Adventure|...|1902|     7|           80|\n",
      "|  7065|Birth of a Nation...|           Drama|War|1915|     6|           92|\n",
      "|  7243|Intolerance: Love...|               Drama|1915|     4|           82|\n",
      "| 62383|20,000 Leagues Un...|                null|1915|     9|         null|\n",
      "|  8511|      Immigrant, The|              Comedy|1917|     4|           59|\n",
      "|  null|       Dog's Life, A|                null|1917|  null|           83|\n",
      "| 72626|  Billy Blazes, Esq.|      Comedy|Western|1918|     2|           63|\n",
      "|  6987|Cabinet of Dr. Ca...|Crime|Fantasy|Horror|1919|     4|           63|\n",
      "| 25737|Golem, The (Golem...|                null|null|  null|         null|\n",
      "| 59945|  Mark of Zorro, The|Adventure|Romance...|1919|     8|           67|\n",
      "|  3310|            Kid, The|        Comedy|Drama|1921|     8|           57|\n",
      "| 83096|  Haunted House, The|              Comedy|1920|     9|           61|\n",
      "| 83318|           Goat, The|              Comedy|1921|     8|           86|\n",
      "| 83322|           Boat, The|              Comedy|1920|     4|           65|\n",
      "| 83359|     Play House, The|              Comedy|1921|     6|           53|\n",
      "|  1348|                null|                null|null|  null|         null|\n",
      "|  4768|Dr. Mabuse: The G...|Crime|Mystery|Thr...|1921|     2|           69|\n",
      "| 25744|Haxan: Witchcraft...|  Documentary|Horror|1922|     6|           83|\n",
      "|  null|                null|   Documentary|Drama|null|  null|         null|\n",
      "+------+--------------------+--------------------+----+------+-------------+\n",
      "\n"
     ]
    }
   ],
   "source": [
    "df_pyspark = spark.read.csv(get_file_from_directory(folder,csv_file), sep=';',header=True, inferSchema=True)\n",
    "df_pyspark.show()"
   ]
  },
  {
   "cell_type": "markdown",
   "id": "f540b3cc",
   "metadata": {},
   "source": [
    "## Filter"
   ]
  },
  {
   "cell_type": "code",
   "execution_count": 16,
   "id": "595d8749",
   "metadata": {},
   "outputs": [
    {
     "name": "stdout",
     "output_type": "stream",
     "text": [
      "+-----+--------------------+--------------------+----+------+-------------+\n",
      "|movie|               title|              genres|year|Rating|Rotton Tomato|\n",
      "+-----+--------------------+--------------------+----+------+-------------+\n",
      "|32898|Trip to the Moon,...|Action|Adventure|...|1902|     7|           80|\n",
      "|62383|20,000 Leagues Un...|                null|1915|     9|         null|\n",
      "|59945|  Mark of Zorro, The|Adventure|Romance...|1919|     8|           67|\n",
      "| 3310|            Kid, The|        Comedy|Drama|1921|     8|           57|\n",
      "|83096|  Haunted House, The|              Comedy|1920|     9|           61|\n",
      "|83318|           Goat, The|              Comedy|1921|     8|           86|\n",
      "+-----+--------------------+--------------------+----+------+-------------+\n",
      "\n"
     ]
    }
   ],
   "source": [
    "## Filter Rating > 6\n",
    "\n",
    "df_pyspark.filter(\"Rating > 6\").show()\n",
    "\n",
    "## df_pyspark.filter(df_pyspark['Rating']> 6).show()"
   ]
  },
  {
   "cell_type": "code",
   "execution_count": 43,
   "id": "14cbf7c3",
   "metadata": {},
   "outputs": [
    {
     "name": "stdout",
     "output_type": "stream",
     "text": [
      "+-----+--------------------+--------------------+----+------+-------------+\n",
      "|movie|               title|              genres|year|Rating|Rotton Tomato|\n",
      "+-----+--------------------+--------------------+----+------+-------------+\n",
      "|32898|Trip to the Moon,...|Action|Adventure|...|1902|     7|           80|\n",
      "|59945|  Mark of Zorro, The|Adventure|Romance...|1919|     8|           67|\n",
      "| 3310|            Kid, The|        Comedy|Drama|1921|     8|           57|\n",
      "|83096|  Haunted House, The|              Comedy|1920|     9|           61|\n",
      "|83318|           Goat, The|              Comedy|1921|     8|           86|\n",
      "+-----+--------------------+--------------------+----+------+-------------+\n",
      "\n"
     ]
    }
   ],
   "source": [
    "## filter null values\n",
    "df_pyspark.filter((df_pyspark['Rating'] >= 7) & \n",
    "                  (df_pyspark['Rating'] <= 9) &\n",
    "                 (df_pyspark[\"Rotton Tomato\"].isNotNull())).show()\n",
    "#%% [markdown]\n",
    "## Many Approachs\n",
    "# Approach - 1\n",
    "    # df.filter(\"value is not null\").show()\n",
    "\n",
    "# Approach - 2\n",
    "     # df.filter(col(\"value\").isNotNull()).show()\n",
    "\n",
    "# Approach - 3\n",
    "     # df.filter(df[\"value\"].isNotNull()).show()\n",
    "\n",
    "# Approach - 4\n",
    "    # df.filter(df.value.isNotNull()).show()\n",
    "\n",
    "# Approach - 5\n",
    "    # df.na.drop(subset=[\"value\"]).show()\n",
    "\n",
    "# Approach - 6\n",
    "    # df.dropna(subset=[\"value\"]).show()\n",
    "\n",
    "#Source: https://medium.com/expedia-group-tech/start-your-journey-with-apache-spark-part-3-1ae77c05187\n"
   ]
  },
  {
   "cell_type": "code",
   "execution_count": 47,
   "id": "a66ff078",
   "metadata": {},
   "outputs": [
    {
     "name": "stdout",
     "output_type": "stream",
     "text": [
      "+-----+--------------------+--------------------+----+------+-------------+\n",
      "|movie|               title|              genres|year|Rating|Rotton Tomato|\n",
      "+-----+--------------------+--------------------+----+------+-------------+\n",
      "|32898|Trip to the Moon,...|Action|Adventure|...|1902|     7|           80|\n",
      "|62383|20,000 Leagues Un...|                null|1915|     9|         null|\n",
      "|83096|  Haunted House, The|              Comedy|1920|     9|           61|\n",
      "+-----+--------------------+--------------------+----+------+-------------+\n",
      "\n"
     ]
    }
   ],
   "source": [
    "df_pyspark.filter((df_pyspark['Rating'] == 7) |\n",
    "                  (df_pyspark['Rating'] == 9) ).show()"
   ]
  },
  {
   "cell_type": "code",
   "execution_count": 13,
   "id": "cfe60cf3",
   "metadata": {},
   "outputs": [
    {
     "name": "stdout",
     "output_type": "stream",
     "text": [
      "+--------------------+----+------+\n",
      "|               title|year|Rating|\n",
      "+--------------------+----+------+\n",
      "|Trip to the Moon,...|1902|     7|\n",
      "|20,000 Leagues Un...|1915|     9|\n",
      "|  Mark of Zorro, The|1919|     8|\n",
      "|            Kid, The|1921|     8|\n",
      "|  Haunted House, The|1920|     9|\n",
      "|           Goat, The|1921|     8|\n",
      "+--------------------+----+------+\n",
      "\n"
     ]
    }
   ],
   "source": [
    "df_pyspark.filter(\"Rating > 6\").select(['title','year','Rating']).show()"
   ]
  },
  {
   "cell_type": "code",
   "execution_count": 50,
   "id": "ef4bf632",
   "metadata": {},
   "outputs": [
    {
     "name": "stdout",
     "output_type": "stream",
     "text": [
      "+-----+--------------------+--------------------+----+------+-------------+\n",
      "|movie|               title|              genres|year|Rating|Rotton Tomato|\n",
      "+-----+--------------------+--------------------+----+------+-------------+\n",
      "|32898|Trip to the Moon,...|Action|Adventure|...|1902|     7|           80|\n",
      "| 7065|Birth of a Nation...|           Drama|War|1915|     6|           92|\n",
      "| 7243|Intolerance: Love...|               Drama|1915|     4|           82|\n",
      "| 8511|      Immigrant, The|              Comedy|1917|     4|           59|\n",
      "|72626|  Billy Blazes, Esq.|      Comedy|Western|1918|     2|           63|\n",
      "| 6987|Cabinet of Dr. Ca...|Crime|Fantasy|Horror|1919|     4|           63|\n",
      "|59945|  Mark of Zorro, The|Adventure|Romance...|1919|     8|           67|\n",
      "|83322|           Boat, The|              Comedy|1920|     4|           65|\n",
      "|25744|Haxan: Witchcraft...|  Documentary|Horror|1922|     6|           83|\n",
      "+-----+--------------------+--------------------+----+------+-------------+\n",
      "\n"
     ]
    }
   ],
   "source": [
    "## Not operation '~'\n",
    "\n",
    "df_pyspark.filter(~(df_pyspark['Rating'] == 9) & \n",
    "                 ~(df_pyspark['year'] == 1921)).show()"
   ]
  }
 ],
 "metadata": {
  "kernelspec": {
   "display_name": "Python 3 (ipykernel)",
   "language": "python",
   "name": "python3"
  },
  "language_info": {
   "codemirror_mode": {
    "name": "ipython",
    "version": 3
   },
   "file_extension": ".py",
   "mimetype": "text/x-python",
   "name": "python",
   "nbconvert_exporter": "python",
   "pygments_lexer": "ipython3",
   "version": "3.8.10"
  }
 },
 "nbformat": 4,
 "nbformat_minor": 5
}
