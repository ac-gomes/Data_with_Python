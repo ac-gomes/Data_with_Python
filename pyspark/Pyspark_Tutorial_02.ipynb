{
 "cells": [
  {
   "cell_type": "markdown",
   "id": "0db9c955",
   "metadata": {},
   "source": [
    "## Handling Missing Values\n",
    "- Dropping Columns\n",
    "- Dropping Rows\n",
    "- Various Parameter in Dropping functionalities\n",
    "- Handling Missing values by Mean, Median and etc."
   ]
  },
  {
   "cell_type": "code",
   "execution_count": 2,
   "id": "8def6c36",
   "metadata": {},
   "outputs": [],
   "source": [
    "from pyspark.sql import SparkSession\n",
    "spark=SparkSession.builder.appName('Tutorial_02').getOrCreate()"
   ]
  },
  {
   "cell_type": "code",
   "execution_count": 3,
   "id": "35f41a1c",
   "metadata": {},
   "outputs": [],
   "source": [
    "#Function to get all files in my directory\n",
    "\n",
    "from os import listdir\n",
    "from os.path import isfile, join\n",
    "\n",
    "def get_file_from_directory(folder_dir='', file_name=''):\n",
    "    filtered_list = []\n",
    "    file_list = []\n",
    "\n",
    "    try:\n",
    "        if folder_dir != '':\n",
    "            file_list = [f for f in listdir(folder_dir) if isfile(join(folder_dir, f))]\n",
    "\n",
    "        if file_name != '':\n",
    "            for arquivo in file_list:\n",
    "                if file_name in arquivo:\n",
    "                    filtered_list.append(file_name)\n",
    "        else:\n",
    "            return 'Insera o nome do arquivo a ser localizado!'\n",
    "        \n",
    "    except FileNotFoundError as error:\n",
    "        print(f\"Insira um caminho valido para a pasta de arquivos! \\n Error: {error.filename}\")\n",
    "        \n",
    "    except IndexError as index_error:\n",
    "        print(f\"Arquivo não localozado {index_error}, certifique-se de inserir o nome do arquivo.\")\n",
    "        \n",
    "    try:\n",
    "        return (f\"{folder_dir}/{filtered_list[0]}\", 'arquivo não localizado')[len(filtered_list) == 0]\n",
    "    \n",
    "    except IndexError:\n",
    "        return 'Arquivo não localizado, talvez o nome do arquivo esteja errado.'"
   ]
  },
  {
   "cell_type": "code",
   "execution_count": 6,
   "id": "62aceb19",
   "metadata": {},
   "outputs": [],
   "source": [
    "# set var values\n",
    "folder='/home/toni/dev_spark/notebooks/files'\n",
    "csv_file = 'movies.csv'\n"
   ]
  },
  {
   "cell_type": "code",
   "execution_count": 19,
   "id": "4aa469c8",
   "metadata": {},
   "outputs": [],
   "source": [
    "df_movies_pyspark=spark.read.csv(get_file_from_directory(folder,csv_file),sep=\";\", header=True, inferSchema=True)"
   ]
  },
  {
   "cell_type": "code",
   "execution_count": 20,
   "id": "2aca429d",
   "metadata": {},
   "outputs": [
    {
     "name": "stdout",
     "output_type": "stream",
     "text": [
      "+------+--------------------+--------------------+----+------+-------------+\n",
      "| movie|               title|              genres|year|Rating|Rotton Tomato|\n",
      "+------+--------------------+--------------------+----+------+-------------+\n",
      "|108583| Fawlty Towers (1975|              Comedy|null|     1|           54|\n",
      "| 32898|Trip to the Moon,...|Action|Adventure|...|1902|     7|           80|\n",
      "|  7065|Birth of a Nation...|           Drama|War|1915|     6|           92|\n",
      "|  7243|Intolerance: Love...|               Drama|1915|     4|           82|\n",
      "| 62383|20,000 Leagues Un...|                null|1915|     9|         null|\n",
      "|  8511|      Immigrant, The|              Comedy|1917|     4|           59|\n",
      "|  null|       Dog's Life, A|                null|1917|  null|           83|\n",
      "| 72626|  Billy Blazes, Esq.|      Comedy|Western|1918|     2|           63|\n",
      "|  6987|Cabinet of Dr. Ca...|Crime|Fantasy|Horror|1919|     4|           63|\n",
      "| 25737|Golem, The (Golem...|                null|null|  null|         null|\n",
      "| 59945|  Mark of Zorro, The|Adventure|Romance...|1919|     8|           67|\n",
      "|  3310|            Kid, The|        Comedy|Drama|1921|     8|           57|\n",
      "| 83096|  Haunted House, The|              Comedy|1920|     9|           61|\n",
      "| 83318|           Goat, The|              Comedy|1921|     8|           86|\n",
      "| 83322|           Boat, The|              Comedy|1920|     4|           65|\n",
      "| 83359|     Play House, The|              Comedy|1921|     6|           53|\n",
      "|  1348|                null|                null|null|  null|         null|\n",
      "|  4768|Dr. Mabuse: The G...|Crime|Mystery|Thr...|1921|     2|           69|\n",
      "| 25744|Haxan: Witchcraft...|  Documentary|Horror|1922|     6|           83|\n",
      "|  null|                null|   Documentary|Drama|null|  null|         null|\n",
      "+------+--------------------+--------------------+----+------+-------------+\n",
      "\n"
     ]
    }
   ],
   "source": [
    "df_movies_pyspark.show()"
   ]
  },
  {
   "cell_type": "code",
   "execution_count": 21,
   "id": "452545ae",
   "metadata": {},
   "outputs": [
    {
     "name": "stdout",
     "output_type": "stream",
     "text": [
      "+--------------------+--------------------+----+------+-------------+\n",
      "|               title|              genres|year|Rating|Rotton Tomato|\n",
      "+--------------------+--------------------+----+------+-------------+\n",
      "| Fawlty Towers (1975|              Comedy|null|     1|           54|\n",
      "|Trip to the Moon,...|Action|Adventure|...|1902|     7|           80|\n",
      "|Birth of a Nation...|           Drama|War|1915|     6|           92|\n",
      "|Intolerance: Love...|               Drama|1915|     4|           82|\n",
      "|20,000 Leagues Un...|                null|1915|     9|         null|\n",
      "|      Immigrant, The|              Comedy|1917|     4|           59|\n",
      "|       Dog's Life, A|                null|1917|  null|           83|\n",
      "|  Billy Blazes, Esq.|      Comedy|Western|1918|     2|           63|\n",
      "|Cabinet of Dr. Ca...|Crime|Fantasy|Horror|1919|     4|           63|\n",
      "|Golem, The (Golem...|                null|null|  null|         null|\n",
      "|  Mark of Zorro, The|Adventure|Romance...|1919|     8|           67|\n",
      "|            Kid, The|        Comedy|Drama|1921|     8|           57|\n",
      "|  Haunted House, The|              Comedy|1920|     9|           61|\n",
      "|           Goat, The|              Comedy|1921|     8|           86|\n",
      "|           Boat, The|              Comedy|1920|     4|           65|\n",
      "|     Play House, The|              Comedy|1921|     6|           53|\n",
      "|                null|                null|null|  null|         null|\n",
      "|Dr. Mabuse: The G...|Crime|Mystery|Thr...|1921|     2|           69|\n",
      "|Haxan: Witchcraft...|  Documentary|Horror|1922|     6|           83|\n",
      "|                null|   Documentary|Drama|null|  null|         null|\n",
      "+--------------------+--------------------+----+------+-------------+\n",
      "\n"
     ]
    }
   ],
   "source": [
    "## drop the columns\n",
    "df_movies_pyspark.drop('movie').show()"
   ]
  },
  {
   "cell_type": "code",
   "execution_count": 22,
   "id": "8b2ab868",
   "metadata": {},
   "outputs": [
    {
     "name": "stdout",
     "output_type": "stream",
     "text": [
      "+------+--------------------+--------------------+----+------+-------------+\n",
      "| movie|               title|              genres|year|Rating|Rotton Tomato|\n",
      "+------+--------------------+--------------------+----+------+-------------+\n",
      "|108583| Fawlty Towers (1975|              Comedy|null|     1|           54|\n",
      "| 32898|Trip to the Moon,...|Action|Adventure|...|1902|     7|           80|\n",
      "|  7065|Birth of a Nation...|           Drama|War|1915|     6|           92|\n",
      "|  7243|Intolerance: Love...|               Drama|1915|     4|           82|\n",
      "| 62383|20,000 Leagues Un...|                null|1915|     9|         null|\n",
      "|  8511|      Immigrant, The|              Comedy|1917|     4|           59|\n",
      "|  null|       Dog's Life, A|                null|1917|  null|           83|\n",
      "| 72626|  Billy Blazes, Esq.|      Comedy|Western|1918|     2|           63|\n",
      "|  6987|Cabinet of Dr. Ca...|Crime|Fantasy|Horror|1919|     4|           63|\n",
      "| 25737|Golem, The (Golem...|                null|null|  null|         null|\n",
      "| 59945|  Mark of Zorro, The|Adventure|Romance...|1919|     8|           67|\n",
      "|  3310|            Kid, The|        Comedy|Drama|1921|     8|           57|\n",
      "| 83096|  Haunted House, The|              Comedy|1920|     9|           61|\n",
      "| 83318|           Goat, The|              Comedy|1921|     8|           86|\n",
      "| 83322|           Boat, The|              Comedy|1920|     4|           65|\n",
      "| 83359|     Play House, The|              Comedy|1921|     6|           53|\n",
      "|  1348|                null|                null|null|  null|         null|\n",
      "|  4768|Dr. Mabuse: The G...|Crime|Mystery|Thr...|1921|     2|           69|\n",
      "| 25744|Haxan: Witchcraft...|  Documentary|Horror|1922|     6|           83|\n",
      "|  null|                null|   Documentary|Drama|null|  null|         null|\n",
      "+------+--------------------+--------------------+----+------+-------------+\n",
      "\n"
     ]
    }
   ],
   "source": [
    "df_movies_pyspark.show()"
   ]
  },
  {
   "cell_type": "code",
   "execution_count": 23,
   "id": "22981fdd",
   "metadata": {},
   "outputs": [
    {
     "name": "stdout",
     "output_type": "stream",
     "text": [
      "+-----+--------------------+--------------------+----+------+-------------+\n",
      "|movie|               title|              genres|year|Rating|Rotton Tomato|\n",
      "+-----+--------------------+--------------------+----+------+-------------+\n",
      "|32898|Trip to the Moon,...|Action|Adventure|...|1902|     7|           80|\n",
      "| 7065|Birth of a Nation...|           Drama|War|1915|     6|           92|\n",
      "| 7243|Intolerance: Love...|               Drama|1915|     4|           82|\n",
      "| 8511|      Immigrant, The|              Comedy|1917|     4|           59|\n",
      "|72626|  Billy Blazes, Esq.|      Comedy|Western|1918|     2|           63|\n",
      "| 6987|Cabinet of Dr. Ca...|Crime|Fantasy|Horror|1919|     4|           63|\n",
      "|59945|  Mark of Zorro, The|Adventure|Romance...|1919|     8|           67|\n",
      "| 3310|            Kid, The|        Comedy|Drama|1921|     8|           57|\n",
      "|83096|  Haunted House, The|              Comedy|1920|     9|           61|\n",
      "|83318|           Goat, The|              Comedy|1921|     8|           86|\n",
      "|83322|           Boat, The|              Comedy|1920|     4|           65|\n",
      "|83359|     Play House, The|              Comedy|1921|     6|           53|\n",
      "| 4768|Dr. Mabuse: The G...|Crime|Mystery|Thr...|1921|     2|           69|\n",
      "|25744|Haxan: Witchcraft...|  Documentary|Horror|1922|     6|           83|\n",
      "+-----+--------------------+--------------------+----+------+-------------+\n",
      "\n"
     ]
    }
   ],
   "source": [
    "## Remove null valeus\n",
    "df_movies_pyspark.na.drop().show()\n",
    "\n",
    "## df_movies_pyspark.na.drop(how='any').show()"
   ]
  },
  {
   "cell_type": "code",
   "execution_count": 24,
   "id": "ea6f693b",
   "metadata": {},
   "outputs": [
    {
     "name": "stdout",
     "output_type": "stream",
     "text": [
      "+------+--------------------+--------------------+----+------+-------------+\n",
      "| movie|               title|              genres|year|Rating|Rotton Tomato|\n",
      "+------+--------------------+--------------------+----+------+-------------+\n",
      "|108583| Fawlty Towers (1975|              Comedy|null|     1|           54|\n",
      "| 32898|Trip to the Moon,...|Action|Adventure|...|1902|     7|           80|\n",
      "|  7065|Birth of a Nation...|           Drama|War|1915|     6|           92|\n",
      "|  7243|Intolerance: Love...|               Drama|1915|     4|           82|\n",
      "| 62383|20,000 Leagues Un...|                null|1915|     9|         null|\n",
      "|  8511|      Immigrant, The|              Comedy|1917|     4|           59|\n",
      "|  null|       Dog's Life, A|                null|1917|  null|           83|\n",
      "| 72626|  Billy Blazes, Esq.|      Comedy|Western|1918|     2|           63|\n",
      "|  6987|Cabinet of Dr. Ca...|Crime|Fantasy|Horror|1919|     4|           63|\n",
      "| 25737|Golem, The (Golem...|                null|null|  null|         null|\n",
      "| 59945|  Mark of Zorro, The|Adventure|Romance...|1919|     8|           67|\n",
      "|  3310|            Kid, The|        Comedy|Drama|1921|     8|           57|\n",
      "| 83096|  Haunted House, The|              Comedy|1920|     9|           61|\n",
      "| 83318|           Goat, The|              Comedy|1921|     8|           86|\n",
      "| 83322|           Boat, The|              Comedy|1920|     4|           65|\n",
      "| 83359|     Play House, The|              Comedy|1921|     6|           53|\n",
      "|  4768|Dr. Mabuse: The G...|Crime|Mystery|Thr...|1921|     2|           69|\n",
      "| 25744|Haxan: Witchcraft...|  Documentary|Horror|1922|     6|           83|\n",
      "+------+--------------------+--------------------+----+------+-------------+\n",
      "\n"
     ]
    }
   ],
   "source": [
    "# Treshold\n",
    "df_movies_pyspark.na.drop(how='any',thresh=2).show()"
   ]
  },
  {
   "cell_type": "code",
   "execution_count": 25,
   "id": "bf934f4f",
   "metadata": {},
   "outputs": [
    {
     "name": "stdout",
     "output_type": "stream",
     "text": [
      "+------+--------------------+--------------------+----+------+-------------+\n",
      "| movie|               title|              genres|year|Rating|Rotton Tomato|\n",
      "+------+--------------------+--------------------+----+------+-------------+\n",
      "|108583| Fawlty Towers (1975|              Comedy|null|     1|           54|\n",
      "| 32898|Trip to the Moon,...|Action|Adventure|...|1902|     7|           80|\n",
      "|  7065|Birth of a Nation...|           Drama|War|1915|     6|           92|\n",
      "|  7243|Intolerance: Love...|               Drama|1915|     4|           82|\n",
      "| 62383|20,000 Leagues Un...|                null|1915|     9|         null|\n",
      "|  8511|      Immigrant, The|              Comedy|1917|     4|           59|\n",
      "| 72626|  Billy Blazes, Esq.|      Comedy|Western|1918|     2|           63|\n",
      "|  6987|Cabinet of Dr. Ca...|Crime|Fantasy|Horror|1919|     4|           63|\n",
      "| 59945|  Mark of Zorro, The|Adventure|Romance...|1919|     8|           67|\n",
      "|  3310|            Kid, The|        Comedy|Drama|1921|     8|           57|\n",
      "| 83096|  Haunted House, The|              Comedy|1920|     9|           61|\n",
      "| 83318|           Goat, The|              Comedy|1921|     8|           86|\n",
      "| 83322|           Boat, The|              Comedy|1920|     4|           65|\n",
      "| 83359|     Play House, The|              Comedy|1921|     6|           53|\n",
      "|  4768|Dr. Mabuse: The G...|Crime|Mystery|Thr...|1921|     2|           69|\n",
      "| 25744|Haxan: Witchcraft...|  Documentary|Horror|1922|     6|           83|\n",
      "+------+--------------------+--------------------+----+------+-------------+\n",
      "\n"
     ]
    }
   ],
   "source": [
    "# SubsetTreshold\n",
    "df_movies_pyspark.na.drop(how='any',subset=['Rating']).show()"
   ]
  },
  {
   "cell_type": "code",
   "execution_count": 30,
   "id": "17758e93",
   "metadata": {},
   "outputs": [
    {
     "name": "stdout",
     "output_type": "stream",
     "text": [
      "+------+--------------------+--------------------+----+------+-------------+\n",
      "| movie|               title|              genres|year|Rating|Rotton Tomato|\n",
      "+------+--------------------+--------------------+----+------+-------------+\n",
      "|108583| Fawlty Towers (1975|              Comedy|null|     1|           54|\n",
      "| 32898|Trip to the Moon,...|Action|Adventure|...|1902|     7|           80|\n",
      "|  7065|Birth of a Nation...|           Drama|War|1915|     6|           92|\n",
      "|  7243|Intolerance: Love...|               Drama|1915|     4|           82|\n",
      "| 62383|20,000 Leagues Un...|                null|1915|     9|         null|\n",
      "|  8511|      Immigrant, The|              Comedy|1917|     4|           59|\n",
      "|  null|       Dog's Life, A|                null|1917|  null|           83|\n",
      "| 72626|  Billy Blazes, Esq.|      Comedy|Western|1918|     2|           63|\n",
      "|  6987|Cabinet of Dr. Ca...|Crime|Fantasy|Horror|1919|     4|           63|\n",
      "| 25737|Golem, The (Golem...|                null|null|  null|         null|\n",
      "| 59945|  Mark of Zorro, The|Adventure|Romance...|1919|     8|           67|\n",
      "|  3310|            Kid, The|        Comedy|Drama|1921|     8|           57|\n",
      "| 83096|  Haunted House, The|              Comedy|1920|     9|           61|\n",
      "| 83318|           Goat, The|              Comedy|1921|     8|           86|\n",
      "| 83322|           Boat, The|              Comedy|1920|     4|           65|\n",
      "| 83359|     Play House, The|              Comedy|1921|     6|           53|\n",
      "|  1348|       Missing Value|                null|null|  null|         null|\n",
      "|  4768|Dr. Mabuse: The G...|Crime|Mystery|Thr...|1921|     2|           69|\n",
      "| 25744|Haxan: Witchcraft...|  Documentary|Horror|1922|     6|           83|\n",
      "|  null|       Missing Value|   Documentary|Drama|null|  null|         null|\n",
      "+------+--------------------+--------------------+----+------+-------------+\n",
      "\n"
     ]
    }
   ],
   "source": [
    "## Filling the Missing Value\n",
    "df_movies_pyspark.na.fill('Missing Value','Title').show()\n",
    "\n",
    "## df_movies_pyspark.na.fill('Missing Value',['Title','genres']).show()"
   ]
  },
  {
   "cell_type": "code",
   "execution_count": 31,
   "id": "ada1e970",
   "metadata": {},
   "outputs": [
    {
     "name": "stdout",
     "output_type": "stream",
     "text": [
      "+------+--------------------+--------------------+----+------+-------------+\n",
      "| movie|               title|              genres|year|Rating|Rotton Tomato|\n",
      "+------+--------------------+--------------------+----+------+-------------+\n",
      "|108583| Fawlty Towers (1975|              Comedy|null|     1|           54|\n",
      "| 32898|Trip to the Moon,...|Action|Adventure|...|1902|     7|           80|\n",
      "|  7065|Birth of a Nation...|           Drama|War|1915|     6|           92|\n",
      "|  7243|Intolerance: Love...|               Drama|1915|     4|           82|\n",
      "| 62383|20,000 Leagues Un...|                null|1915|     9|         null|\n",
      "|  8511|      Immigrant, The|              Comedy|1917|     4|           59|\n",
      "|  null|       Dog's Life, A|                null|1917|  null|           83|\n",
      "| 72626|  Billy Blazes, Esq.|      Comedy|Western|1918|     2|           63|\n",
      "|  6987|Cabinet of Dr. Ca...|Crime|Fantasy|Horror|1919|     4|           63|\n",
      "| 25737|Golem, The (Golem...|                null|null|  null|         null|\n",
      "| 59945|  Mark of Zorro, The|Adventure|Romance...|1919|     8|           67|\n",
      "|  3310|            Kid, The|        Comedy|Drama|1921|     8|           57|\n",
      "| 83096|  Haunted House, The|              Comedy|1920|     9|           61|\n",
      "| 83318|           Goat, The|              Comedy|1921|     8|           86|\n",
      "| 83322|           Boat, The|              Comedy|1920|     4|           65|\n",
      "| 83359|     Play House, The|              Comedy|1921|     6|           53|\n",
      "|  1348|                null|                null|null|  null|         null|\n",
      "|  4768|Dr. Mabuse: The G...|Crime|Mystery|Thr...|1921|     2|           69|\n",
      "| 25744|Haxan: Witchcraft...|  Documentary|Horror|1922|     6|           83|\n",
      "|  null|                null|   Documentary|Drama|null|  null|         null|\n",
      "+------+--------------------+--------------------+----+------+-------------+\n",
      "\n"
     ]
    }
   ],
   "source": [
    "df_movies_pyspark.show()"
   ]
  },
  {
   "cell_type": "code",
   "execution_count": 32,
   "id": "71765501",
   "metadata": {},
   "outputs": [],
   "source": [
    "from pyspark.ml.feature import Imputer\n",
    "\n",
    "imputer = Imputer(\n",
    "    inputCols=['Rating','Rotton Tomato'],\n",
    "    outputCols=[\"{}_imputed\".format(c) for c in ['Rating','Rotton Tomato']]\n",
    "    ).setStrategy(\"mean\")\n",
    "\n",
    "\n",
    "# imputer = Imputer(\n",
    "#     inputCols=['Rating','Rotton Tomato'],\n",
    "#     outputCols=[\"{}_imputed\".format(c) for c in ['Rating','Rotton Tomato']]\n",
    "#     ).setStrategy(\"median\")"
   ]
  },
  {
   "cell_type": "code",
   "execution_count": 33,
   "id": "daaf2e21",
   "metadata": {},
   "outputs": [
    {
     "name": "stdout",
     "output_type": "stream",
     "text": [
      "+------+--------------------+--------------------+----+------+-------------+--------------+---------------------+\n",
      "| movie|               title|              genres|year|Rating|Rotton Tomato|Rating_imputed|Rotton Tomato_imputed|\n",
      "+------+--------------------+--------------------+----+------+-------------+--------------+---------------------+\n",
      "|108583| Fawlty Towers (1975|              Comedy|null|     1|           54|             1|                   54|\n",
      "| 32898|Trip to the Moon,...|Action|Adventure|...|1902|     7|           80|             7|                   80|\n",
      "|  7065|Birth of a Nation...|           Drama|War|1915|     6|           92|             6|                   92|\n",
      "|  7243|Intolerance: Love...|               Drama|1915|     4|           82|             4|                   82|\n",
      "| 62383|20,000 Leagues Un...|                null|1915|     9|         null|             9|                   69|\n",
      "|  8511|      Immigrant, The|              Comedy|1917|     4|           59|             4|                   59|\n",
      "|  null|       Dog's Life, A|                null|1917|  null|           83|             5|                   83|\n",
      "| 72626|  Billy Blazes, Esq.|      Comedy|Western|1918|     2|           63|             2|                   63|\n",
      "|  6987|Cabinet of Dr. Ca...|Crime|Fantasy|Horror|1919|     4|           63|             4|                   63|\n",
      "| 25737|Golem, The (Golem...|                null|null|  null|         null|             5|                   69|\n",
      "| 59945|  Mark of Zorro, The|Adventure|Romance...|1919|     8|           67|             8|                   67|\n",
      "|  3310|            Kid, The|        Comedy|Drama|1921|     8|           57|             8|                   57|\n",
      "| 83096|  Haunted House, The|              Comedy|1920|     9|           61|             9|                   61|\n",
      "| 83318|           Goat, The|              Comedy|1921|     8|           86|             8|                   86|\n",
      "| 83322|           Boat, The|              Comedy|1920|     4|           65|             4|                   65|\n",
      "| 83359|     Play House, The|              Comedy|1921|     6|           53|             6|                   53|\n",
      "|  1348|                null|                null|null|  null|         null|             5|                   69|\n",
      "|  4768|Dr. Mabuse: The G...|Crime|Mystery|Thr...|1921|     2|           69|             2|                   69|\n",
      "| 25744|Haxan: Witchcraft...|  Documentary|Horror|1922|     6|           83|             6|                   83|\n",
      "|  null|                null|   Documentary|Drama|null|  null|         null|             5|                   69|\n",
      "+------+--------------------+--------------------+----+------+-------------+--------------+---------------------+\n",
      "\n"
     ]
    }
   ],
   "source": [
    "# Add imputation cols to df\n",
    "imputer.fit(df_movies_pyspark).transform(df_movies_pyspark).show()"
   ]
  },
  {
   "cell_type": "code",
   "execution_count": null,
   "id": "aa1fc52e",
   "metadata": {},
   "outputs": [],
   "source": []
  },
  {
   "cell_type": "code",
   "execution_count": null,
   "id": "156e17fd",
   "metadata": {},
   "outputs": [],
   "source": []
  },
  {
   "cell_type": "code",
   "execution_count": null,
   "id": "53309eb5",
   "metadata": {},
   "outputs": [],
   "source": []
  }
 ],
 "metadata": {
  "kernelspec": {
   "display_name": "Python 3 (ipykernel)",
   "language": "python",
   "name": "python3"
  },
  "language_info": {
   "codemirror_mode": {
    "name": "ipython",
    "version": 3
   },
   "file_extension": ".py",
   "mimetype": "text/x-python",
   "name": "python",
   "nbconvert_exporter": "python",
   "pygments_lexer": "ipython3",
   "version": "3.8.10"
  }
 },
 "nbformat": 4,
 "nbformat_minor": 5
}
